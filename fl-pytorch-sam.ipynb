{
 "cells": [
  {
   "cell_type": "markdown",
   "metadata": {},
   "source": [
    "# Federated Learning\n",
    "\n",
    "Federated learning in Pytorch without usig the PySyft framework"
   ]
  },
  {
   "cell_type": "markdown",
   "metadata": {},
   "source": [
    "## Import Packages"
   ]
  },
  {
   "cell_type": "code",
   "execution_count": 1,
   "metadata": {},
   "outputs": [],
   "source": [
    "import torch\n",
    "import torch.nn as nn\n",
    "import torchvision\n",
    "import torchvision.transforms as transforms\n",
    "import numpy as np\n",
    "import matplotlib.pyplot as plt"
   ]
  },
  {
   "cell_type": "markdown",
   "metadata": {},
   "source": [
    "## Data Prep"
   ]
  },
  {
   "cell_type": "markdown",
   "metadata": {},
   "source": [
    "Download the MNIST dataset"
   ]
  },
  {
   "cell_type": "code",
   "execution_count": 2,
   "metadata": {},
   "outputs": [],
   "source": [
    "train_dataset = torchvision.datasets.MNIST(\n",
    "    root='data/',\n",
    "    train=True, \n",
    "    transform=transforms.ToTensor(), \n",
    "    download=True\n",
    ")"
   ]
  },
  {
   "cell_type": "code",
   "execution_count": 3,
   "metadata": {},
   "outputs": [
    {
     "data": {
      "text/plain": [
       "Dataset MNIST\n",
       "    Number of datapoints: 60000\n",
       "    Root location: data/\n",
       "    Split: Train\n",
       "    StandardTransform\n",
       "Transform: ToTensor()"
      ]
     },
     "execution_count": 3,
     "metadata": {},
     "output_type": "execute_result"
    }
   ],
   "source": [
    "train_dataset"
   ]
  },
  {
   "cell_type": "markdown",
   "metadata": {},
   "source": [
    "Split data ramdomly in 3 parts. One part each for each of the 2 nodes and retain 1 part for testing"
   ]
  },
  {
   "cell_type": "code",
   "execution_count": 4,
   "metadata": {},
   "outputs": [],
   "source": [
    "node1_data,node2_data,server_data = torch.utils.data.random_split(train_dataset,[20000,20000,20000])"
   ]
  },
  {
   "cell_type": "markdown",
   "metadata": {},
   "source": [
    "Sanity checks"
   ]
  },
  {
   "cell_type": "code",
   "execution_count": 5,
   "metadata": {},
   "outputs": [
    {
     "data": {
      "text/plain": [
       "20000"
      ]
     },
     "execution_count": 5,
     "metadata": {},
     "output_type": "execute_result"
    }
   ],
   "source": [
    "len(node2_data)"
   ]
  },
  {
   "cell_type": "code",
   "execution_count": 6,
   "metadata": {},
   "outputs": [
    {
     "data": {
      "text/plain": [
       "20000"
      ]
     },
     "execution_count": 6,
     "metadata": {},
     "output_type": "execute_result"
    }
   ],
   "source": [
    "len(node1_data.indices)"
   ]
  },
  {
   "cell_type": "markdown",
   "metadata": {},
   "source": [
    "## Build"
   ]
  },
  {
   "cell_type": "markdown",
   "metadata": {},
   "source": [
    "Build a simple ANN model"
   ]
  },
  {
   "cell_type": "code",
   "execution_count": 7,
   "metadata": {},
   "outputs": [],
   "source": [
    "model = nn.Sequential(\n",
    "    nn.Linear(784,128), #flatten 28X28 \n",
    "    nn.ReLU(),\n",
    "    nn.Linear(128,10) # 10 classes\n",
    ")"
   ]
  },
  {
   "cell_type": "markdown",
   "metadata": {},
   "source": [
    "Initialize remote models"
   ]
  },
  {
   "cell_type": "code",
   "execution_count": 8,
   "metadata": {},
   "outputs": [],
   "source": [
    "node1_model=model\n",
    "node2_model=model"
   ]
  },
  {
   "cell_type": "markdown",
   "metadata": {},
   "source": [
    "Move models to GPU - if GPU is available"
   ]
  },
  {
   "cell_type": "code",
   "execution_count": 9,
   "metadata": {},
   "outputs": [
    {
     "name": "stdout",
     "output_type": "stream",
     "text": [
      "cuda:0\n"
     ]
    },
    {
     "data": {
      "text/plain": [
       "Sequential(\n",
       "  (0): Linear(in_features=784, out_features=128, bias=True)\n",
       "  (1): ReLU()\n",
       "  (2): Linear(in_features=128, out_features=10, bias=True)\n",
       ")"
      ]
     },
     "execution_count": 9,
     "metadata": {},
     "output_type": "execute_result"
    }
   ],
   "source": [
    "device = torch.device(\"cuda:0\" if torch.cuda.is_available() else \"cpu\")\n",
    "print(device)\n",
    "model.to(device) # transfer the model parameters and data to the GPU (or RAM in case of CPU)\n",
    "node1_model.to(device)\n",
    "node2_model.to(device)"
   ]
  },
  {
   "cell_type": "code",
   "execution_count": 10,
   "metadata": {},
   "outputs": [],
   "source": [
    "# Loss and optimizer\n",
    "criterion = nn.CrossEntropyLoss() \n",
    "optimizer = torch.optim.Adam(model.parameters())"
   ]
  },
  {
   "cell_type": "markdown",
   "metadata": {},
   "source": [
    "## Training"
   ]
  },
  {
   "cell_type": "markdown",
   "metadata": {},
   "source": [
    "Create dataloaders"
   ]
  },
  {
   "cell_type": "code",
   "execution_count": 11,
   "metadata": {},
   "outputs": [],
   "source": [
    "batch_size=128\n",
    "node1_loader = torch.utils.data.DataLoader(dataset=node1_data,\n",
    "                                            batch_size=batch_size,\n",
    "                                            shuffle=True)\n",
    "node2_loader = torch.utils.data.DataLoader(dataset=node2_data,\n",
    "                                            batch_size=batch_size,\n",
    "                                            shuffle=True)\n",
    "server_loader = torch.utils.data.DataLoader(dataset=server_data,\n",
    "                                            batch_size=batch_size,\n",
    "                                            shuffle=True)"
   ]
  },
  {
   "cell_type": "code",
   "execution_count": 12,
   "metadata": {},
   "outputs": [],
   "source": [
    "def train(model,name,train_loader,test_loader):\n",
    "    n_epochs = 10\n",
    "\n",
    "    train_losses = np.zeros(n_epochs)\n",
    "    test_losses = np.zeros(n_epochs)\n",
    "\n",
    "    for it in range(n_epochs):\n",
    "        train_loss = [] \n",
    "        for inputs, targets in train_loader:\n",
    "            inputs, targets = inputs.to(device), targets.to(device) # move data to GPU\n",
    "\n",
    "            \n",
    "            inputs = inputs.view(-1,784) \n",
    "\n",
    "            optimizer.zero_grad()\n",
    "\n",
    "            \n",
    "            outputs = model(inputs)\n",
    "            loss = criterion(outputs,targets)\n",
    "\n",
    "            \n",
    "            loss.backward()\n",
    "            optimizer.step()\n",
    "\n",
    "            train_loss.append(loss.item()) \n",
    "\n",
    "        \n",
    "        train_loss=np.mean(train_loss) # The mean can represent the loss for the epoch\n",
    "\n",
    "        test_loss = []\n",
    "        for inputs,targets in test_loader:\n",
    "            inputs, targets = inputs.to(device), targets.to(device) \n",
    "            \n",
    "            inputs = inputs.view(-1,784) \n",
    "\n",
    "            outputs = model(inputs)\n",
    "            loss = criterion(outputs,targets)\n",
    "            test_loss.append(loss.item()) \n",
    "\n",
    "        test_loss=np.mean(test_loss) # The mean can represent the loss for the epoch\n",
    "\n",
    "        # save losses\n",
    "        train_losses[it] = train_loss\n",
    "        test_losses[it] = test_loss\n",
    "\n",
    "        print(f'Epoch {it+1}/{n_epochs}, Train Loss: {train_loss:.4f}, Test Loss: {test_loss:.4f}')\n",
    "    \n",
    "        \n",
    "    torch.save(model.state_dict(), name)\n",
    "        \n",
    "    "
   ]
  },
  {
   "cell_type": "markdown",
   "metadata": {},
   "source": [
    "**Remote Training**\n",
    "\n",
    "Remote train 1"
   ]
  },
  {
   "cell_type": "code",
   "execution_count": 13,
   "metadata": {
    "scrolled": true
   },
   "outputs": [
    {
     "name": "stdout",
     "output_type": "stream",
     "text": [
      "Epoch 1/10, Train Loss: 0.6819, Test Loss: 0.3422\n",
      "Epoch 2/10, Train Loss: 0.2940, Test Loss: 0.2729\n",
      "Epoch 3/10, Train Loss: 0.2362, Test Loss: 0.2377\n",
      "Epoch 4/10, Train Loss: 0.1964, Test Loss: 0.2139\n",
      "Epoch 5/10, Train Loss: 0.1658, Test Loss: 0.1906\n",
      "Epoch 6/10, Train Loss: 0.1442, Test Loss: 0.1782\n",
      "Epoch 7/10, Train Loss: 0.1234, Test Loss: 0.1679\n",
      "Epoch 8/10, Train Loss: 0.1085, Test Loss: 0.1609\n",
      "Epoch 9/10, Train Loss: 0.0967, Test Loss: 0.1518\n",
      "Epoch 10/10, Train Loss: 0.0840, Test Loss: 0.1486\n"
     ]
    }
   ],
   "source": [
    "train(node1_model,\"node1.pt\",node1_loader,server_loader)"
   ]
  },
  {
   "cell_type": "markdown",
   "metadata": {},
   "source": [
    "Remote Training 2"
   ]
  },
  {
   "cell_type": "code",
   "execution_count": 14,
   "metadata": {},
   "outputs": [
    {
     "name": "stdout",
     "output_type": "stream",
     "text": [
      "Epoch 1/10, Train Loss: 0.0738, Test Loss: 0.1477\n",
      "Epoch 2/10, Train Loss: 0.0646, Test Loss: 0.1382\n",
      "Epoch 3/10, Train Loss: 0.0565, Test Loss: 0.1391\n",
      "Epoch 4/10, Train Loss: 0.0506, Test Loss: 0.1382\n",
      "Epoch 5/10, Train Loss: 0.0445, Test Loss: 0.1322\n",
      "Epoch 6/10, Train Loss: 0.0388, Test Loss: 0.1339\n",
      "Epoch 7/10, Train Loss: 0.0334, Test Loss: 0.1333\n",
      "Epoch 8/10, Train Loss: 0.0299, Test Loss: 0.1323\n",
      "Epoch 9/10, Train Loss: 0.0250, Test Loss: 0.1385\n",
      "Epoch 10/10, Train Loss: 0.0223, Test Loss: 0.1317\n"
     ]
    }
   ],
   "source": [
    "train(node2_model,\"node2.pt\",node1_loader,server_loader)"
   ]
  },
  {
   "cell_type": "markdown",
   "metadata": {},
   "source": [
    "## Aggregate Models"
   ]
  },
  {
   "cell_type": "markdown",
   "metadata": {},
   "source": [
    "Take the avarage of the layer weights and biases"
   ]
  },
  {
   "cell_type": "code",
   "execution_count": 15,
   "metadata": {},
   "outputs": [],
   "source": [
    "state_1 = node1_model.state_dict()\n",
    "state_2 = node2_model.state_dict()\n",
    "\n",
    "for layer in state_1:\n",
    "    state_1[layer] = (state_1[layer] + state_2[layer])/2"
   ]
  },
  {
   "cell_type": "markdown",
   "metadata": {},
   "source": [
    "Initialize the server modesl and load it with the aggregated remote models"
   ]
  },
  {
   "cell_type": "code",
   "execution_count": 17,
   "metadata": {},
   "outputs": [
    {
     "data": {
      "text/plain": [
       "<All keys matched successfully>"
      ]
     },
     "execution_count": 17,
     "metadata": {},
     "output_type": "execute_result"
    }
   ],
   "source": [
    "server_model = model \n",
    "server_model.load_state_dict(state_1)"
   ]
  },
  {
   "cell_type": "markdown",
   "metadata": {},
   "source": [
    "## Evaluate"
   ]
  },
  {
   "cell_type": "code",
   "execution_count": 20,
   "metadata": {},
   "outputs": [],
   "source": [
    "def eval(model,test_loader):\n",
    "        test_loss = []\n",
    "        for inputs,targets in test_loader:\n",
    "            inputs, targets = inputs.to(device), targets.to(device) # move data to GPU\n",
    "        \n",
    "            inputs = inputs.view(-1,784) \n",
    "\n",
    "            outputs = model(inputs)\n",
    "            loss = criterion(outputs,targets)\n",
    "            test_loss.append(loss.item()) # this will loss of the batch\n",
    "\n",
    "        test_loss=np.mean(test_loss) # The mean can represent the loss for the epoch\n",
    "\n",
    "        print(f'Test Loss: {test_loss:.4f}')\n",
    "    "
   ]
  },
  {
   "cell_type": "markdown",
   "metadata": {},
   "source": [
    "Evaluate the aggregated global model"
   ]
  },
  {
   "cell_type": "code",
   "execution_count": 21,
   "metadata": {},
   "outputs": [
    {
     "name": "stdout",
     "output_type": "stream",
     "text": [
      "Test Loss: 0.1318\n"
     ]
    }
   ],
   "source": [
    "eval(server_model,server_loader)"
   ]
  },
  {
   "cell_type": "markdown",
   "metadata": {},
   "source": [
    "## Subsequent rounds "
   ]
  },
  {
   "cell_type": "markdown",
   "metadata": {},
   "source": [
    "Initialize remote models with the aggregated global model"
   ]
  },
  {
   "cell_type": "code",
   "execution_count": 22,
   "metadata": {},
   "outputs": [],
   "source": [
    "node1_model=server_model\n",
    "node2_model=server_model"
   ]
  },
  {
   "cell_type": "markdown",
   "metadata": {},
   "source": [
    "Remote training 1"
   ]
  },
  {
   "cell_type": "code",
   "execution_count": 23,
   "metadata": {},
   "outputs": [
    {
     "name": "stdout",
     "output_type": "stream",
     "text": [
      "Epoch 1/10, Train Loss: 0.0190, Test Loss: 0.1323\n",
      "Epoch 2/10, Train Loss: 0.0162, Test Loss: 0.1328\n",
      "Epoch 3/10, Train Loss: 0.0138, Test Loss: 0.1364\n",
      "Epoch 4/10, Train Loss: 0.0125, Test Loss: 0.1350\n",
      "Epoch 5/10, Train Loss: 0.0107, Test Loss: 0.1384\n",
      "Epoch 6/10, Train Loss: 0.0097, Test Loss: 0.1378\n",
      "Epoch 7/10, Train Loss: 0.0084, Test Loss: 0.1405\n",
      "Epoch 8/10, Train Loss: 0.0078, Test Loss: 0.1438\n",
      "Epoch 9/10, Train Loss: 0.0065, Test Loss: 0.1435\n",
      "Epoch 10/10, Train Loss: 0.0057, Test Loss: 0.1434\n"
     ]
    }
   ],
   "source": [
    "train(node1_model,\"node1a.pt\",node1_loader,server_loader)"
   ]
  },
  {
   "cell_type": "markdown",
   "metadata": {},
   "source": [
    "Remote Training 2"
   ]
  },
  {
   "cell_type": "code",
   "execution_count": 24,
   "metadata": {},
   "outputs": [
    {
     "name": "stdout",
     "output_type": "stream",
     "text": [
      "Epoch 1/10, Train Loss: 0.1349, Test Loss: 0.1222\n",
      "Epoch 2/10, Train Loss: 0.0719, Test Loss: 0.1101\n",
      "Epoch 3/10, Train Loss: 0.0489, Test Loss: 0.1071\n",
      "Epoch 4/10, Train Loss: 0.0355, Test Loss: 0.1086\n",
      "Epoch 5/10, Train Loss: 0.0288, Test Loss: 0.1083\n",
      "Epoch 6/10, Train Loss: 0.0231, Test Loss: 0.1026\n",
      "Epoch 7/10, Train Loss: 0.0174, Test Loss: 0.1043\n",
      "Epoch 8/10, Train Loss: 0.0140, Test Loss: 0.1023\n",
      "Epoch 9/10, Train Loss: 0.0117, Test Loss: 0.1061\n",
      "Epoch 10/10, Train Loss: 0.0102, Test Loss: 0.1047\n"
     ]
    }
   ],
   "source": [
    "train(node2_model,\"node2a.pt\",node2_loader,server_loader)"
   ]
  },
  {
   "cell_type": "markdown",
   "metadata": {},
   "source": [
    "Aggregation"
   ]
  },
  {
   "cell_type": "code",
   "execution_count": 25,
   "metadata": {},
   "outputs": [
    {
     "data": {
      "text/plain": [
       "<All keys matched successfully>"
      ]
     },
     "execution_count": 25,
     "metadata": {},
     "output_type": "execute_result"
    }
   ],
   "source": [
    "state_1 = node1_model.state_dict()\n",
    "state_2 = node2_model.state_dict()\n",
    "\n",
    "for layer in state_1:\n",
    "    state_1[layer] = (state_1[layer] + state_2[layer])/2\n",
    "    \n",
    "server_model = model \n",
    "server_model.load_state_dict(state_1)"
   ]
  },
  {
   "cell_type": "markdown",
   "metadata": {},
   "source": [
    "Evaluate "
   ]
  },
  {
   "cell_type": "code",
   "execution_count": 26,
   "metadata": {},
   "outputs": [
    {
     "name": "stdout",
     "output_type": "stream",
     "text": [
      "Test Loss: 0.1046\n"
     ]
    }
   ],
   "source": [
    "eval(server_model,server_loader)"
   ]
  }
 ],
 "metadata": {
  "kernelspec": {
   "display_name": "conda_pytorch_latest_p36",
   "language": "python",
   "name": "conda_pytorch_latest_p36"
  },
  "language_info": {
   "codemirror_mode": {
    "name": "ipython",
    "version": 3
   },
   "file_extension": ".py",
   "mimetype": "text/x-python",
   "name": "python",
   "nbconvert_exporter": "python",
   "pygments_lexer": "ipython3",
   "version": "3.6.10"
  }
 },
 "nbformat": 4,
 "nbformat_minor": 4
}
